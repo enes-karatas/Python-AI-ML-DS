{
  "nbformat": 4,
  "nbformat_minor": 0,
  "metadata": {
    "colab": {
      "provenance": [],
      "authorship_tag": "ABX9TyPzyqnK0Te9+JYYpz/lBcOD",
      "include_colab_link": true
    },
    "kernelspec": {
      "name": "python3",
      "display_name": "Python 3"
    },
    "language_info": {
      "name": "python"
    }
  },
  "cells": [
    {
      "cell_type": "markdown",
      "metadata": {
        "id": "view-in-github",
        "colab_type": "text"
      },
      "source": [
        "<a href=\"https://colab.research.google.com/github/enes-karatas/Python-AI-ML-DS/blob/main/first.ipynb\" target=\"_parent\"><img src=\"https://colab.research.google.com/assets/colab-badge.svg\" alt=\"Open In Colab\"/></a>"
      ]
    },
    {
      "cell_type": "code",
      "execution_count": null,
      "metadata": {
        "colab": {
          "base_uri": "https://localhost:8080/"
        },
        "id": "rqV3qU6HNvu_",
        "outputId": "76892a34-9342-4bbb-9063-e3aa47f55b83"
      },
      "outputs": [
        {
          "output_type": "stream",
          "name": "stdout",
          "text": [
            "Hello again world\n"
          ]
        }
      ],
      "source": [
        "print('Hello again world')"
      ]
    },
    {
      "cell_type": "code",
      "source": [
        "2+4"
      ],
      "metadata": {
        "id": "jbMFQvWIXLoN",
        "colab": {
          "base_uri": "https://localhost:8080/"
        },
        "outputId": "61914db8-cf5a-426d-a3e5-e721947eba03"
      },
      "execution_count": null,
      "outputs": [
        {
          "output_type": "execute_result",
          "data": {
            "text/plain": [
              "6"
            ]
          },
          "metadata": {},
          "execution_count": 2
        }
      ]
    },
    {
      "cell_type": "code",
      "source": [
        "print(\"Hey , this is our new python experience\",4,'you')\n",
        "print(\"Hey , this is our new python experience \"+str(4)+' you')"
      ],
      "metadata": {
        "colab": {
          "base_uri": "https://localhost:8080/"
        },
        "id": "hEjrl5FmH6CO",
        "outputId": "9ecd304b-b84e-4ddc-bfb0-5c28a16451ec"
      },
      "execution_count": null,
      "outputs": [
        {
          "output_type": "stream",
          "name": "stdout",
          "text": [
            "Hey , this is our new python experience 4 you\n",
            "Hey , this is our new python experience 4 you\n"
          ]
        }
      ]
    },
    {
      "cell_type": "code",
      "source": [
        "print('Python is more'+'functional then java')\n",
        "print('Python is more '+'functional then java')"
      ],
      "metadata": {
        "colab": {
          "base_uri": "https://localhost:8080/"
        },
        "id": "wL7R5V7gINfi",
        "outputId": "52549ac6-1533-49f6-9881-722a7193bc91"
      },
      "execution_count": null,
      "outputs": [
        {
          "output_type": "stream",
          "name": "stdout",
          "text": [
            "Python is morefunctional then java\n",
            "Python is more functional then java\n"
          ]
        }
      ]
    },
    {
      "cell_type": "code",
      "source": [
        "price = 750;\n",
        "brand = \"Apple\";\n",
        "color = \"Silver\";\n",
        "print(\"Price for the\" ,brand,\"is\",price)\n",
        "print(\"Colour for the\"+brand+\"is\"+color)\n",
        "print(\"Colour for the \"+brand+\" is \"+color)\n"
      ],
      "metadata": {
        "colab": {
          "base_uri": "https://localhost:8080/"
        },
        "id": "5cmni5qKJPRo",
        "outputId": "7ab10b8e-6bab-4b2a-b6cf-00d9e1f0eda5"
      },
      "execution_count": null,
      "outputs": [
        {
          "output_type": "stream",
          "name": "stdout",
          "text": [
            "Price for the Apple is 750\n",
            "Colour for theAppleisSilver\n",
            "Colour for the Apple is Silver\n"
          ]
        }
      ]
    },
    {
      "cell_type": "code",
      "source": [
        "phone_price = 1100;\n",
        "pc_price = 2249.99;\n",
        "total_price = phone_price+pc_price;\n",
        "print('Total cost for your shop is',total_price)"
      ],
      "metadata": {
        "colab": {
          "base_uri": "https://localhost:8080/"
        },
        "id": "AOAN4hm6KB_9",
        "outputId": "192ed12a-93a3-41df-f50f-76f38e63c8e2"
      },
      "execution_count": null,
      "outputs": [
        {
          "output_type": "stream",
          "name": "stdout",
          "text": [
            "Total cost for your shop is 3349.99\n"
          ]
        }
      ]
    },
    {
      "cell_type": "code",
      "source": [
        "#List\n",
        "\n",
        "brand_list = ['Apple', 'Razer','Toyota','Casio','Samsung'];\n",
        "print(brand_list)"
      ],
      "metadata": {
        "colab": {
          "base_uri": "https://localhost:8080/"
        },
        "id": "4UDuUAn_T3iP",
        "outputId": "7bfe035e-514a-4c59-8971-3f5752594659"
      },
      "execution_count": null,
      "outputs": [
        {
          "output_type": "stream",
          "name": "stdout",
          "text": [
            "['Apple', 'Razer', 'Toyota', 'Casio', 'Samsung']\n"
          ]
        }
      ]
    },
    {
      "cell_type": "code",
      "source": [
        " print('Hey','python')\n",
        " print('Hey','python',sep='')"
      ],
      "metadata": {
        "colab": {
          "base_uri": "https://localhost:8080/"
        },
        "id": "b8eWZtCOVk5c",
        "outputId": "bd56d2ed-50d8-49c0-e08a-51666874e19a"
      },
      "execution_count": null,
      "outputs": [
        {
          "output_type": "stream",
          "name": "stdout",
          "text": [
            "Hey python\n",
            "Heypython\n"
          ]
        }
      ]
    },
    {
      "cell_type": "code",
      "source": [
        "print('hey '+str(7))"
      ],
      "metadata": {
        "colab": {
          "base_uri": "https://localhost:8080/"
        },
        "id": "E_On1atBW3ze",
        "outputId": "591dab10-e44a-41b8-bdf6-5ecb5f3157c9"
      },
      "execution_count": null,
      "outputs": [
        {
          "output_type": "stream",
          "name": "stdout",
          "text": [
            "hey 7\n"
          ]
        }
      ]
    },
    {
      "cell_type": "code",
      "source": [
        "brand='Lexus';\n",
        "price= 32000;\n",
        "print('Price of the ',brand,'car is',str(price))"
      ],
      "metadata": {
        "colab": {
          "base_uri": "https://localhost:8080/"
        },
        "id": "ivADxfCNYp86",
        "outputId": "8ae0fe50-4782-4173-d11e-e2f2b27f8b7f"
      },
      "execution_count": null,
      "outputs": [
        {
          "output_type": "stream",
          "name": "stdout",
          "text": [
            "Price of the  Lexus car is 32000\n"
          ]
        }
      ]
    },
    {
      "cell_type": "code",
      "source": [
        "is_correct= True\n",
        "print(is_correct)"
      ],
      "metadata": {
        "colab": {
          "base_uri": "https://localhost:8080/"
        },
        "id": "9tTMOgIAZR0f",
        "outputId": "23e4a3fb-a0c8-4a35-bee3-c885fcf5548c"
      },
      "execution_count": null,
      "outputs": [
        {
          "output_type": "stream",
          "name": "stdout",
          "text": [
            "True\n"
          ]
        }
      ]
    },
    {
      "cell_type": "code",
      "source": [
        "print(type(is_correct))\n",
        "print(type(brand))"
      ],
      "metadata": {
        "colab": {
          "base_uri": "https://localhost:8080/"
        },
        "id": "lR1BoKcqZjIQ",
        "outputId": "0f1ab43a-b73b-4f14-b4d2-a63cce610d67"
      },
      "execution_count": null,
      "outputs": [
        {
          "output_type": "stream",
          "name": "stdout",
          "text": [
            "<class 'bool'>\n",
            "<class 'str'>\n"
          ]
        }
      ]
    },
    {
      "cell_type": "code",
      "source": [
        "apple_device_price = 1000\n",
        "discount_rate = 0.3\n",
        "\n",
        "price_with_discount = apple_device_price - apple_device_price*discount_rate\n",
        "print('$'+str(price_with_discount))"
      ],
      "metadata": {
        "colab": {
          "base_uri": "https://localhost:8080/"
        },
        "id": "bE8CGvTQaGdq",
        "outputId": "83c07c86-67ad-4769-d4a4-21f5766c2813"
      },
      "execution_count": null,
      "outputs": [
        {
          "output_type": "stream",
          "name": "stdout",
          "text": [
            "$700.0\n"
          ]
        }
      ]
    },
    {
      "cell_type": "code",
      "source": [
        "# List are storage in Python similar to Java\n",
        "# We use [ ] to define lists\n",
        "\n",
        "brand_list = [\"apple\",'razer',\"toyota\",'rolex','mercedes ']\n",
        "price_list = [ 1100,2300, 22000, 45000,200, 3300]\n",
        "\n",
        "print('Brand List : ',brand_list)\n",
        "print('Price List : ',price_list)\n",
        "print('1111111111111111')\n",
        "print(len(brand_list))\n",
        "print('Max price in the list is :' , max(price_list), \"and minimum price in the list is :\",min(price_list))\n",
        "print('2222222222222222')\n",
        "print(brand_list[1])\n",
        "print(brand_list[0:2])\n",
        "print(price_list[2:5])\n",
        "print('33333333333333')\n",
        "print(price_list[2:6])\n",
        "print(price_list[2:7]) # even though we go beyond the list length we can see the all elements from begining point to the end\n",
        "print(price_list[2 : len(price_list)-1]) # By using len function I can go to end of the list in proper way\n",
        "print(price_list[-1]) # to be able to see last element of the list we simply put -1 so we reach to the end of the list\n",
        "print('4444444444444')\n",
        "\n",
        "\n",
        "brand_list.pop(-1) # .pop() removes the item from list with given index inside, with -1 here last item was removed from list which is mercedes\n",
        "print(brand_list)\n",
        "brand_list.pop(2) # list already lost last item above, now it lost index 2 item which is toyota\n",
        "print(brand_list)\n",
        "\n",
        "brand_list.append('audi') # .append() add items to the list , it will be added to the end of the list automatically\n",
        "print(brand_list)\n",
        "\n",
        "brand_list[1] = 'boeing' # I can re-assign any value in the list by specifying its index, in here 2nd element became boeing from razer, item will be replaced no shifting in the list\n",
        "print(brand_list)\n"
      ],
      "metadata": {
        "colab": {
          "base_uri": "https://localhost:8080/"
        },
        "id": "b-20hxkYdSsK",
        "outputId": "40c9ad07-b13a-40ad-e01d-894e83d462c3"
      },
      "execution_count": null,
      "outputs": [
        {
          "output_type": "stream",
          "name": "stdout",
          "text": [
            "Brand List :  ['apple', 'razer', 'toyota', 'rolex', 'mercedes ']\n",
            "Price List :  [1100, 2300, 22000, 45000, 200, 3300]\n",
            "1111111111111111\n",
            "5\n",
            "Max price in the list is : 45000 and minimum price in the list is : 200\n",
            "2222222222222222\n",
            "razer\n",
            "['apple', 'razer']\n",
            "[22000, 45000, 200]\n",
            "33333333333333\n",
            "[22000, 45000, 200, 3300]\n",
            "[22000, 45000, 200, 3300]\n",
            "[22000, 45000, 200]\n",
            "3300\n",
            "4444444444444\n",
            "['apple', 'razer', 'toyota', 'rolex']\n",
            "['apple', 'razer', 'rolex']\n",
            "['apple', 'razer', 'rolex', 'audi']\n",
            "['apple', 'boeing', 'rolex', 'audi']\n"
          ]
        }
      ]
    },
    {
      "cell_type": "code",
      "source": [
        "# Tuple is also storage place like list but its immutable, its defined and fixed at the begining, not strectable like list, Its very similar to Array in Java\n",
        "# We use ( ) to define Tuples\n",
        "\n",
        "storage = (32,64,128,256)\n",
        "print(storage)\n",
        "print(type(storage))\n",
        "print(storage[2]) # we can also reach specific items in Tuple by giving its index\n",
        "\n",
        "# storage[2]=44 = this will give an error because Tuples are immutbale and we cannot rech and delete its items like we did in lists"
      ],
      "metadata": {
        "colab": {
          "base_uri": "https://localhost:8080/"
        },
        "id": "Ck1Ba7xOkhyt",
        "outputId": "49ed0ca0-5f3d-4d6b-a228-2e2c5747150a"
      },
      "execution_count": null,
      "outputs": [
        {
          "output_type": "stream",
          "name": "stdout",
          "text": [
            "(32, 64, 128, 256)\n",
            "<class 'tuple'>\n",
            "128\n"
          ]
        }
      ]
    },
    {
      "cell_type": "code",
      "source": [
        "mix = [22,34,\"enes\"] # we can put different types of data in same list\n",
        "print(mix)"
      ],
      "metadata": {
        "colab": {
          "base_uri": "https://localhost:8080/"
        },
        "id": "Bst32t3Tl0f-",
        "outputId": "70cdea2e-516e-4b37-fd22-83b1079d418b"
      },
      "execution_count": null,
      "outputs": [
        {
          "output_type": "stream",
          "name": "stdout",
          "text": [
            "[22, 34, 'enes']\n"
          ]
        }
      ]
    },
    {
      "cell_type": "code",
      "source": [
        "# Dictionaries are like Map in java, we store items in key,value format\n",
        "# We use { } to define Dict\n",
        "\n",
        "newDict = {'brand':'Apple' , 'price':300 , 'RAM (in GB)' : 128 , \"Storage (in TB)\" : 1}\n",
        "print(newDict)\n",
        "type(newDict)\n",
        "print('-------------')\n",
        "# Keys are unique like in Java\n",
        "# We call key to see value as below\n",
        "\n",
        "print(newDict['price'])\n",
        "\n",
        "# We can do re-assignment value to  Values in dict  dsdsdsdds\n",
        "newDict['brand'] = \"Samsung\"\n",
        "\n",
        "print(newDict)"
      ],
      "metadata": {
        "colab": {
          "base_uri": "https://localhost:8080/"
        },
        "id": "rvyGU8QI4jSS",
        "outputId": "9570c410-af95-4970-e352-c9256a507498"
      },
      "execution_count": null,
      "outputs": [
        {
          "output_type": "stream",
          "name": "stdout",
          "text": [
            "{'brand': 'Apple', 'price': 300, 'RAM (in GB)': 128, 'Storage (in TB)': 1}\n",
            "-------------\n",
            "300\n",
            "{'brand': 'Samsung', 'price': 300, 'RAM (in GB)': 128, 'Storage (in TB)': 1}\n"
          ]
        }
      ]
    },
    {
      "cell_type": "code",
      "source": [
        "#print(brand_list)\n",
        "\n",
        "# We can add list as a value as below\n",
        "newDict = {'brand':brand_list , 'price':300 , 'RAM (in GB)' : 128 , \"Storage (in TB)\" : 1}\n",
        "print(newDict)\n",
        "\n",
        "print('-------------------')\n",
        "\n",
        "# To be able to see keys and values we have .keys() .values() functions in Python\n",
        "\n",
        "print(newDict.keys())\n",
        "print(newDict.values())\n",
        "\n",
        "print('-------------------')\n",
        "\n",
        "# To be able to reach one of the values we can give index, see below\n",
        "print(newDict['brand']) # gonna be ['apple', 'boeing', 'rolex', 'audi']\n",
        "print(newDict['brand'][2]) # gonna be rolex\n",
        "\n",
        "# We can update the value with .update() function , .update( {key : new value} )\n",
        "newDict.update({'price':700})\n",
        "print(newDict)\n",
        "print('(++++++++)')\n",
        "\n",
        "# We can also remove items with .pop() in Dictionary\n",
        "newDict.pop('RAM (in GB)') # 'RAM (in GB)' key removed from dict with her values\n",
        "print(newDict)\n"
      ],
      "metadata": {
        "colab": {
          "base_uri": "https://localhost:8080/"
        },
        "id": "ezxQ8yNI7zvs",
        "outputId": "61a41fe6-d7ca-4b92-b14a-98967a85bca3"
      },
      "execution_count": null,
      "outputs": [
        {
          "output_type": "stream",
          "name": "stdout",
          "text": [
            "{'brand': ['apple', 'boeing', 'rolex', 'audi'], 'price': 300, 'RAM (in GB)': 128, 'Storage (in TB)': 1}\n",
            "-------------------\n",
            "dict_keys(['brand', 'price', 'RAM (in GB)', 'Storage (in TB)'])\n",
            "dict_values([['apple', 'boeing', 'rolex', 'audi'], 300, 128, 1])\n",
            "-------------------\n",
            "['apple', 'boeing', 'rolex', 'audi']\n",
            "rolex\n",
            "{'brand': ['apple', 'boeing', 'rolex', 'audi'], 'price': 700, 'RAM (in GB)': 128, 'Storage (in TB)': 1}\n",
            "(++++++++)\n",
            "{'brand': ['apple', 'boeing', 'rolex', 'audi'], 'price': 700, 'Storage (in TB)': 1}\n"
          ]
        }
      ]
    },
    {
      "cell_type": "code",
      "source": [
        " # if - else\n",
        "\n",
        "cost = 3000\n",
        "budget = 10000\n",
        "\n",
        "if cost < budget:\n",
        "  print('Affordable')\n",
        "elif cost > budget: # Make sure there is no space before elif, it gives an error idk why lol\n",
        "    print('Not affordable')"
      ],
      "metadata": {
        "colab": {
          "base_uri": "https://localhost:8080/"
        },
        "id": "dzAnbIseAR5I",
        "outputId": "86d1d9da-3880-48cb-9c12-6dc1bf10505b"
      },
      "execution_count": 4,
      "outputs": [
        {
          "output_type": "stream",
          "name": "stdout",
          "text": [
            "Affordable\n"
          ]
        }
      ]
    },
    {
      "cell_type": "code",
      "source": [
        "# We can use input to take values from user\n",
        "\n",
        "inputed_budget = int(input(\"Enter your budget please : \"))\n",
        "\n",
        "cost = 1000\n",
        "\n",
        "if inputed_budget >= cost:\n",
        "  print(\"Program affordable\")\n",
        "elif inputed_budget< cost:\n",
        "  print(\"Program NOT affordable\")\n",
        "else:\n",
        "    print(\"Error\")\n",
        "\n",
        "#print(type(inputed_budget))"
      ],
      "metadata": {
        "colab": {
          "base_uri": "https://localhost:8080/"
        },
        "id": "C_mRNFhgHkh-",
        "outputId": "92a1e5b6-ae65-46af-9a24-2c850b486cf8"
      },
      "execution_count": null,
      "outputs": [
        {
          "output_type": "stream",
          "name": "stdout",
          "text": [
            "Enter your budget please : 3\n",
            "Program NOT affordable\n"
          ]
        }
      ]
    },
    {
      "cell_type": "code",
      "source": [
        "# To be able to check if the user put not a int value we have below logic\n",
        "\n",
        "inputed_budget = input(\"Enter your budget please: \")\n",
        "\n",
        "try:\n",
        "    inputed_budget = int(inputed_budget)\n",
        "except ValueError:\n",
        "    print('Enter a valid number')\n",
        "    exit()\n",
        "\n",
        "cost = 1000\n",
        "\n",
        "if inputed_budget >= cost:\n",
        "    print(\"Program affordable\")\n",
        "elif inputed_budget < cost:\n",
        "    print(\"Program NOT affordable\")\n",
        "else:\n",
        "    print(\"Error\")"
      ],
      "metadata": {
        "colab": {
          "base_uri": "https://localhost:8080/",
          "height": 245
        },
        "id": "ytBsZwuMMoC8",
        "outputId": "e2e95fb9-6ed5-4234-80e0-27772cfb7021"
      },
      "execution_count": null,
      "outputs": [
        {
          "output_type": "stream",
          "name": "stdout",
          "text": [
            "Enter your budget please: e\n",
            "Enter a valid number\n"
          ]
        },
        {
          "output_type": "error",
          "ename": "TypeError",
          "evalue": "'>=' not supported between instances of 'str' and 'int'",
          "traceback": [
            "\u001b[0;31m---------------------------------------------------------------------------\u001b[0m",
            "\u001b[0;31mTypeError\u001b[0m                                 Traceback (most recent call last)",
            "\u001b[0;32m<ipython-input-131-1b9f25cfe966>\u001b[0m in \u001b[0;36m<cell line: 11>\u001b[0;34m()\u001b[0m\n\u001b[1;32m      9\u001b[0m \u001b[0mcost\u001b[0m \u001b[0;34m=\u001b[0m \u001b[0;36m1000\u001b[0m\u001b[0;34m\u001b[0m\u001b[0;34m\u001b[0m\u001b[0m\n\u001b[1;32m     10\u001b[0m \u001b[0;34m\u001b[0m\u001b[0m\n\u001b[0;32m---> 11\u001b[0;31m \u001b[0;32mif\u001b[0m \u001b[0minputed_budget\u001b[0m \u001b[0;34m>=\u001b[0m \u001b[0mcost\u001b[0m\u001b[0;34m:\u001b[0m\u001b[0;34m\u001b[0m\u001b[0;34m\u001b[0m\u001b[0m\n\u001b[0m\u001b[1;32m     12\u001b[0m     \u001b[0mprint\u001b[0m\u001b[0;34m(\u001b[0m\u001b[0;34m\"Program affordable\"\u001b[0m\u001b[0;34m)\u001b[0m\u001b[0;34m\u001b[0m\u001b[0;34m\u001b[0m\u001b[0m\n\u001b[1;32m     13\u001b[0m \u001b[0;32melif\u001b[0m \u001b[0minputed_budget\u001b[0m \u001b[0;34m<\u001b[0m \u001b[0mcost\u001b[0m\u001b[0;34m:\u001b[0m\u001b[0;34m\u001b[0m\u001b[0;34m\u001b[0m\u001b[0m\n",
            "\u001b[0;31mTypeError\u001b[0m: '>=' not supported between instances of 'str' and 'int'"
          ]
        }
      ]
    },
    {
      "cell_type": "code",
      "source": [
        "# Note from AI\n",
        "\n",
        "# The code you provided seems mostly correct, but there's a logic issue with the condition for checking if the inputted budget is an integer. Let me explain:\n",
        "# In Python, when you use input() function, it always returns a string. Therefore, even if the user enters a number, it will be received as a string.\n",
        "# Then you try to convert this string to an integer using int(). However, if the user enters something that can't be converted to an integer (like letters),\n",
        "# it will raise a ValueError before the if statement is executed, so the condition type(inputed_budget) != int won't ever be true.\n",
        "\n",
        "inputed_budget = int(input(\"Enter your budget please : \"))\n",
        "\n",
        "cost = 1000\n",
        "\n",
        "if type(inputed_budget) != int :\n",
        " print('Enter a valid number')\n",
        "\n",
        "if inputed_budget >= cost:\n",
        "  print(\"Program affordable\")\n",
        "elif inputed_budget< cost:\n",
        "  print(\"Program NOT affordable\")\n",
        "else:\n",
        "    print(\"Error\")\n",
        "\n"
      ],
      "metadata": {
        "id": "kPRkaHKXNB01"
      },
      "execution_count": null,
      "outputs": []
    },
    {
      "cell_type": "code",
      "source": [
        "\n",
        "memory = int(input(\"Enter the memory : \"))\n",
        "\n",
        "if memory == 32:\n",
        "  print('Price is $700')\n",
        "elif memory == 64:\n",
        "  print('Price is $900')\n",
        "else:\n",
        "  print(\"We only have 32GB and 64GB options\")"
      ],
      "metadata": {
        "colab": {
          "base_uri": "https://localhost:8080/"
        },
        "id": "4gdMz4wTNs5J",
        "outputId": "f3474ac5-e6bd-4acb-abcb-bca51b74384f"
      },
      "execution_count": null,
      "outputs": [
        {
          "output_type": "stream",
          "name": "stdout",
          "text": [
            "Enter the memory : 32\n",
            "Price is $700\n"
          ]
        }
      ]
    },
    {
      "cell_type": "code",
      "source": [
        "# range() function returns immutable sequence of numbers\n",
        "\n",
        "print(range(6))\n",
        "\n",
        "print(list(range(6))) # 0 dan 6 ya kadar yazdir\n",
        "\n",
        "print(list(range(2,6))) # 2 den 6 ya kadar yazdir\n",
        "\n",
        "print(list(range(2,16,4))) #2 den 16 ya 4 er arttir\n",
        "\n"
      ],
      "metadata": {
        "colab": {
          "base_uri": "https://localhost:8080/"
        },
        "id": "tlM7OkLUN8Jg",
        "outputId": "bfc77ad2-3328-4da1-d2ea-ecbc2bc3bbb5"
      },
      "execution_count": null,
      "outputs": [
        {
          "output_type": "stream",
          "name": "stdout",
          "text": [
            "range(0, 6)\n",
            "[0, 1, 2, 3, 4, 5]\n",
            "[2, 3, 4, 5]\n",
            "[2, 6, 10, 14]\n"
          ]
        }
      ]
    },
    {
      "cell_type": "code",
      "source": [
        "# for\n",
        "\n",
        "# for iterator_var in sequence\n",
        "#     statements(s)\n",
        "newList = []\n",
        "newList2 = []\n",
        "\n",
        "for i in range(0,10,1): # its like for(i=0, i<10, i++) in Java, start from 0 to the 10 and increased by 1\n",
        "  newList.append(i)\n",
        "\n",
        "for j in range(0,10,2):\n",
        "  newList2.append(j)\n",
        "\n",
        "  print(newList)\n",
        "  print(newList2)\n",
        "\n"
      ],
      "metadata": {
        "colab": {
          "base_uri": "https://localhost:8080/"
        },
        "id": "8UAicDQfTYOQ",
        "outputId": "b04c0ca1-a2b2-48a5-917d-a333f1d19280"
      },
      "execution_count": null,
      "outputs": [
        {
          "output_type": "stream",
          "name": "stdout",
          "text": [
            "[0, 1, 2, 3, 4, 5, 6, 7, 8, 9]\n",
            "[0]\n",
            "[0, 1, 2, 3, 4, 5, 6, 7, 8, 9]\n",
            "[0, 2]\n",
            "[0, 1, 2, 3, 4, 5, 6, 7, 8, 9]\n",
            "[0, 2, 4]\n",
            "[0, 1, 2, 3, 4, 5, 6, 7, 8, 9]\n",
            "[0, 2, 4, 6]\n",
            "[0, 1, 2, 3, 4, 5, 6, 7, 8, 9]\n",
            "[0, 2, 4, 6, 8]\n"
          ]
        }
      ]
    },
    {
      "cell_type": "code",
      "source": [
        "# Lets create a price list with discounts\n",
        "\n",
        "price = 900\n",
        "\n",
        "for discount_rate in range(0,21,5):\n",
        "\n",
        "    discounted_price = price * (discount_rate/100)\n",
        "\n",
        "print(\"Price with \",discount_rate,\"discount is \",discounted_price)\n",
        "\n"
      ],
      "metadata": {
        "colab": {
          "base_uri": "https://localhost:8080/"
        },
        "id": "rqMfMzTpWGtz",
        "outputId": "42bbecca-5acf-4f52-c158-28a8acf856d6"
      },
      "execution_count": null,
      "outputs": [
        {
          "output_type": "stream",
          "name": "stdout",
          "text": [
            "Price with  20 discount is  180.0\n"
          ]
        }
      ]
    },
    {
      "cell_type": "code",
      "source": [
        "# Lets create a price list with discounts\n",
        "\n",
        "price = 900\n",
        "\n",
        "for discount_rate in range(0,21,5):\n",
        "\n",
        "    discount = price * (discount_rate/100)\n",
        "\n",
        "    discounted_price = price - discount\n",
        "    print(\"Price with \",discount,\" discount is \",discounted_price)"
      ],
      "metadata": {
        "colab": {
          "base_uri": "https://localhost:8080/"
        },
        "id": "N0ZRFmSBY_6W",
        "outputId": "910fcb25-a1d0-4171-b668-8d2928f28323"
      },
      "execution_count": null,
      "outputs": [
        {
          "output_type": "stream",
          "name": "stdout",
          "text": [
            "Price with  0.0  discount is  900.0\n",
            "Price with  45.0  discount is  855.0\n",
            "Price with  90.0  discount is  810.0\n",
            "Price with  135.0  discount is  765.0\n",
            "Price with  180.0  discount is  720.0\n"
          ]
        }
      ]
    },
    {
      "cell_type": "markdown",
      "source": [
        "VERY IMPORTANT NOTE\n",
        "\n",
        "Looks like python is very sensitive about line positioning both in x and y axis, to be able to feel like stay in the parantesys stay in same line\n",
        "Check above codes, almost same codes will give you different output"
      ],
      "metadata": {
        "id": "OSiL4nCdbuCY"
      }
    },
    {
      "cell_type": "code",
      "source": [
        "# Lets create a price list with discounts with While Loops\n",
        "\n",
        "price = 900\n",
        "\n",
        "i = 5\n",
        "\n",
        "while i<=20:\n",
        "\n",
        "    discount = price * (i/100)\n",
        "\n",
        "    discounted_price = price - discount\n",
        "    print(\"Price with \",discount,\" discount is \",discounted_price)\n",
        "\n",
        "    i+=5 # incrementin i with 5, i = i + 5\n"
      ],
      "metadata": {
        "colab": {
          "base_uri": "https://localhost:8080/"
        },
        "id": "K55Cvz3kbrU_",
        "outputId": "a7eb772e-3e96-410f-fd57-ea6b509b166c"
      },
      "execution_count": null,
      "outputs": [
        {
          "output_type": "stream",
          "name": "stdout",
          "text": [
            "Price with  45.0  discount is  855.0\n",
            "Price with  90.0  discount is  810.0\n",
            "Price with  135.0  discount is  765.0\n",
            "Price with  180.0  discount is  720.0\n"
          ]
        }
      ]
    },
    {
      "cell_type": "code",
      "source": [
        "sum = 0\n",
        "\n",
        "for i in range(1,5):\n",
        "    sum = sum + i\n",
        "print(sum)"
      ],
      "metadata": {
        "colab": {
          "base_uri": "https://localhost:8080/"
        },
        "id": "t3EgUKgYdtKr",
        "outputId": "038d552c-4078-4fcb-effb-1f5c2a93dfc5"
      },
      "execution_count": null,
      "outputs": [
        {
          "output_type": "stream",
          "name": "stdout",
          "text": [
            "10\n"
          ]
        }
      ]
    },
    {
      "cell_type": "code",
      "source": [
        "# List Comprehensions\n",
        "\n",
        "discounted_price_list = [700,800,750,300]\n",
        "within_budget = []\n",
        "\n",
        "budget = int(input(\"Enter your budget in dollars : \"))\n",
        "\n",
        "for i in discounted_price_list: # We're iterating in discounted_price_list\n",
        "  if i <= budget: # if entered price is less than budget then we can afford it, Yes\n",
        "    within_budget.append(\"Yes\")\n",
        "  else:  # Else we cannot afford it , No\n",
        "    within_budget.append(\"No\")\n",
        "\n",
        "print(within_budget)\n",
        "\n"
      ],
      "metadata": {
        "colab": {
          "base_uri": "https://localhost:8080/"
        },
        "id": "8hnPO1G7Dz3u",
        "outputId": "1ac453c4-a208-47ef-cb2d-69047b5817f8"
      },
      "execution_count": null,
      "outputs": [
        {
          "output_type": "stream",
          "name": "stdout",
          "text": [
            "Enter your budget in dollars : 740\n",
            "['Yes', 'No', 'No', 'Yes']\n"
          ]
        }
      ]
    },
    {
      "cell_type": "markdown",
      "source": [
        "We can put above implementation in different way in very less lines, its beautiful, check below"
      ],
      "metadata": {
        "id": "9bLggVucLzN4"
      }
    },
    {
      "cell_type": "code",
      "source": [
        "# List Comprehensions\n",
        "\n",
        "discounted_price_list = [700,800,750,300]\n",
        "\n",
        "new_budget = int(input(\"Enter your budget in dollars : \"))\n",
        "\n",
        "within_budget_new = [\"Yes\" if i <= new_budget else \"No\" for i in discounted_price_list]\n",
        "# We put for loop and if condition inside of the empty list(within_budget_new ),\n",
        "# once loop executed list is started to fill inside, amazing!!\n",
        "\n",
        "print(within_budget_new)\n"
      ],
      "metadata": {
        "colab": {
          "base_uri": "https://localhost:8080/"
        },
        "id": "dIq5ctlLKTQ2",
        "outputId": "9a92596a-ceea-4baa-96fa-afeab1afe9db"
      },
      "execution_count": null,
      "outputs": [
        {
          "output_type": "stream",
          "name": "stdout",
          "text": [
            "Enter your budget in dollars : 720\n",
            "['Yes', 'No', 'No', 'Yes']\n"
          ]
        }
      ]
    },
    {
      "cell_type": "markdown",
      "source": [
        "**Writing a Functions**"
      ],
      "metadata": {
        "id": "ahOH2Q20Oaq-"
      }
    },
    {
      "cell_type": "code",
      "source": [
        "# In Python we can create our own functions , its like methods in Java\n",
        "\n",
        "# write a function\n",
        "\n",
        "def display_iphone_attributes():\n",
        "\n",
        "  \"\"\"\n",
        "  This function displays\n",
        "  the stored attributes of\n",
        "  the Apple iPhone\n",
        "  \"\"\"\n",
        "\n",
        "  # store the pricec in dollars (in dollars) of the mobile in variable 'price'\n",
        "  price = 900\n",
        "  # store the RAM (in GB) of the mobile in variable 'ram'.\n",
        "  ram = 4\n",
        "  #store the internal storage (in GB) og the mobile in variable 'storage'.\n",
        "  store = 128\n",
        "  #display the details\n",
        "  print(\n",
        "      \"The Apple iPhone has \",\n",
        "      ram,\n",
        "      \" GB RAM and \",\n",
        "      store,\n",
        "      \" GB internal storage and it costs $\",\n",
        "      price,\n",
        "      sep=\"\",\n",
        "  )"
      ],
      "metadata": {
        "id": "MwmS2Rk2OgBd"
      },
      "execution_count": null,
      "outputs": []
    },
    {
      "cell_type": "code",
      "source": [
        "# To be able to call functions we simply call their name with paranthesis\n",
        "\n",
        "display_iphone_attributes()"
      ],
      "metadata": {
        "colab": {
          "base_uri": "https://localhost:8080/"
        },
        "id": "lGYTO_ERTjH_",
        "outputId": "479b6b0a-e0a4-475f-d6b0-8cbe97b257fa"
      },
      "execution_count": null,
      "outputs": [
        {
          "output_type": "stream",
          "name": "stdout",
          "text": [
            "The Apple iPhone has 4 GB RAM and 128 GB internal storage and it costs $900\n"
          ]
        }
      ]
    },
    {
      "cell_type": "code",
      "source": [
        "# Lets make our function more dynamic (method variables in Java)\n",
        "\n",
        "def display_iphone_attributes_with_input(brand, price, ram, storage):\n",
        "\n",
        "  \"\"\"\n",
        "  This function displays\n",
        "  the stored attributes of\n",
        "  the Apple iPhone\n",
        "  \"\"\"\n",
        "\n",
        "  print(\n",
        "      \"The \", brand ,\" has \",\n",
        "      ram,\n",
        "      \" GB RAM and \",\n",
        "      storage,\n",
        "      \" GB internal storage and it costs $\",\n",
        "      price,\n",
        "      sep=\"\",\n",
        "  )"
      ],
      "metadata": {
        "id": "zagxrut-ULfC"
      },
      "execution_count": null,
      "outputs": []
    },
    {
      "cell_type": "code",
      "source": [
        "display_iphone_attributes_with_input(\"samsung\",880, 64, 1024)"
      ],
      "metadata": {
        "colab": {
          "base_uri": "https://localhost:8080/"
        },
        "id": "3rJqJ_2AUnIo",
        "outputId": "20392468-9d4f-4f90-f3a0-0bc15bb84da3"
      },
      "execution_count": null,
      "outputs": [
        {
          "output_type": "stream",
          "name": "stdout",
          "text": [
            "The samsung has 64 GB RAM and 1024 GB internal storage and it costs $880\n"
          ]
        }
      ]
    },
    {
      "cell_type": "code",
      "source": [
        "# Lets wrote a new function with return value\n",
        "\n",
        "def dis_price(discount):\n",
        "  \"\"\"\n",
        "  This function takes the discount\n",
        "  percentage as input and\n",
        "  returns the discounted price of an Apple iPhone\n",
        "  \"\"\"\n",
        "\n",
        "  price = 900\n",
        "  discounted_price = price - price * (discount/100)\n",
        "  #return to discounted price\n",
        "  return discounted_price"
      ],
      "metadata": {
        "id": "jmNeYmiZViRU"
      },
      "execution_count": null,
      "outputs": []
    },
    {
      "cell_type": "code",
      "source": [
        "dis_price(10)\n",
        "print(dis_price(10)) # Basically does 10% discount to 900\n",
        "\n",
        "# WE can assign to function to variable Since we retun the value at the end of the function, thats powerful\n",
        "dp_20 = dis_price(20)\n",
        "print(dp_20)\n",
        "#Basically does 10% discount to 900"
      ],
      "metadata": {
        "colab": {
          "base_uri": "https://localhost:8080/"
        },
        "id": "JfJfl7ErWa9E",
        "outputId": "c03ff1cb-7148-4fd5-e8cf-ee654055be46"
      },
      "execution_count": null,
      "outputs": [
        {
          "output_type": "stream",
          "name": "stdout",
          "text": [
            "810.0\n",
            "720.0\n"
          ]
        }
      ]
    },
    {
      "cell_type": "code",
      "source": [
        "# Lambda function\n",
        "\n",
        "# Put some stuff here to explain Lambda"
      ],
      "metadata": {
        "id": "hWHk0VE4XfNH"
      },
      "execution_count": null,
      "outputs": []
    },
    {
      "cell_type": "code",
      "source": [
        "def say(message, times):\n",
        "  print(message*times)\n",
        "\n",
        "say(\"hi\",2)"
      ],
      "metadata": {
        "colab": {
          "base_uri": "https://localhost:8080/"
        },
        "id": "Pd3sv0wVYPJk",
        "outputId": "6f2150c5-999b-4228-bf0a-660cd3135810"
      },
      "execution_count": null,
      "outputs": [
        {
          "output_type": "stream",
          "name": "stdout",
          "text": [
            "hihi\n"
          ]
        }
      ]
    },
    {
      "cell_type": "code",
      "source": [
        "# args and kwargs\n",
        "# arg -> arguments\n",
        "# kwargs -> keyword arguments\n",
        "# Note : args should be defined before kwargs, kwargs once parametre olarak verilirse python hata veriyor\n",
        "\n",
        "def total_amount (price1, price2, price3, price4, price5):\n",
        "  total = price1 + price2 + price3 + price4 + price5\n",
        "\n",
        "  return total\n",
        "\n",
        "\n",
        "# Args Python da guclu bir olay, mesela normalde java da herhangi bir parametre kullanmak istedigimizde yukaridaki gibi\n",
        "# method parameters kismina tek tek koymamiz gerekir\n",
        "# Python da args kullanarak bunu esnek girisli yapabiliyoruz , mesela asagida oldugu gibi parameter kismina *args koyuyoruz\n",
        "# ve args icin bir for loop yaratiyoruz, boylece parametre ici esnek oluyor. ister 2 ister 150 tane parametre koyalim dinamik olarak kabul ediyor\n",
        "def total_amount_with_args(*args):\n",
        "\n",
        "  total_args = 0 # total_args a basta deger atamazsak hata veriyor, int mi string mi anlamiyor sanirim ve loop a sokamiyor\n",
        "  for args in args:\n",
        "    total_args+=args\n",
        "\n",
        "  return total_args\n",
        "\n"
      ],
      "metadata": {
        "id": "vBf5KZNAdBD8"
      },
      "execution_count": null,
      "outputs": []
    },
    {
      "cell_type": "code",
      "source": [
        "print(total_amount(1,2,3,4,5))"
      ],
      "metadata": {
        "colab": {
          "base_uri": "https://localhost:8080/"
        },
        "id": "Q4pAItMUeR56",
        "outputId": "06ae0404-5113-4224-ea2b-7c917fd9aeae"
      },
      "execution_count": null,
      "outputs": [
        {
          "output_type": "stream",
          "name": "stdout",
          "text": [
            "15\n"
          ]
        }
      ]
    },
    {
      "cell_type": "code",
      "source": [
        "print(total_amount_with_args(1,2,3))"
      ],
      "metadata": {
        "colab": {
          "base_uri": "https://localhost:8080/"
        },
        "id": "V-e1GbH9ehUX",
        "outputId": "a527d543-e67c-49fe-f14c-1a62bfa8f422"
      },
      "execution_count": null,
      "outputs": [
        {
          "output_type": "stream",
          "name": "stdout",
          "text": [
            "6\n"
          ]
        }
      ]
    },
    {
      "cell_type": "code",
      "source": [
        "def total_price (*args_total_prices):\n",
        "  total_price_new = 0\n",
        "  for args_TOTAL in args_total_prices:\n",
        "    total_price_new += args_TOTAL\n",
        "\n",
        "  return total_price_new\n",
        "\n",
        "tax_rate = 0.07\n",
        "\n"
      ],
      "metadata": {
        "id": "IGjzKieshS0S"
      },
      "execution_count": null,
      "outputs": []
    },
    {
      "cell_type": "code",
      "source": [
        "print(total_price(1,2,3,4,5,6))\n",
        "print(\"Total price is :\",total_price(1,2,3,4))\n",
        "print(\"Total amount of this shop is :\",total_price(700,850,1249,449,270),\"+ tax\")\n",
        "print(\"Tax rate :\",tax)\n",
        "print(\"Total amount of this shop + tax is :\",total_price(700,850,1249,449,270)+total_price(700,850,1249,449,270)*tax_rate)\n"
      ],
      "metadata": {
        "colab": {
          "base_uri": "https://localhost:8080/"
        },
        "id": "OI9iR6vlh1DL",
        "outputId": "af61d3b4-de9b-40d1-f36e-cd54c6fc83fa"
      },
      "execution_count": null,
      "outputs": [
        {
          "output_type": "stream",
          "name": "stdout",
          "text": [
            "21\n",
            "Total price is : 10\n",
            "Total amount of this shop is : 3518 + tax\n",
            "Tax rate : 0.07\n",
            "Total amount of this shop + tax is : 3764.26\n"
          ]
        }
      ]
    },
    {
      "cell_type": "code",
      "source": [
        "# We can add other parameter next to args but we should call them by their name once we wanna use them, see below\n",
        "# We also should put *args first while defining function before other parameters, otherwise python will give an error\n",
        "\n",
        "def total_price (*args_total_prices , discount=0.0):\n",
        "  total_price_new = 0\n",
        "  for args_TOTAL in args_total_prices:\n",
        "    total_price_new += args_TOTAL\n",
        "\n",
        "  return total_price_new - discount\n",
        "\n",
        "tax_rate = 0.07"
      ],
      "metadata": {
        "id": "kF8jOMLUnGjD"
      },
      "execution_count": null,
      "outputs": []
    },
    {
      "cell_type": "code",
      "source": [
        "print(\"Total amount with discount is : \", total_price(100,200,300,discount=49))"
      ],
      "metadata": {
        "colab": {
          "base_uri": "https://localhost:8080/"
        },
        "id": "ykjYVSlsniNB",
        "outputId": "4cefeac3-2c31-48b2-bf62-1414d717b308"
      },
      "execution_count": null,
      "outputs": [
        {
          "output_type": "stream",
          "name": "stdout",
          "text": [
            "Total amount with discount is :  551\n"
          ]
        }
      ]
    },
    {
      "cell_type": "code",
      "source": [
        "\n",
        "def customer_net_spend(*prices,discount=0.0,**kwargs):\n",
        "\n",
        "  total = 0\n",
        "\n",
        "  for price in prices:\n",
        "    total+=price\n",
        "\n",
        "  total_discounted_price = total - discount - kwargs[\"cashback\"]\n",
        "  # Burada kwargs i dictionary(map) olarak atadik,\n",
        "\n",
        "  net_spend = total_discounted_price - kwargs[\"cashback\"]\n",
        "\n",
        "  return net_spend\n"
      ],
      "metadata": {
        "id": "whK1UigLs8q1"
      },
      "execution_count": null,
      "outputs": []
    },
    {
      "cell_type": "code",
      "source": [
        "\n",
        "additionals = {\"cashback\":5}\n",
        "#additional dictionary si ile cashback key'ine 5 value'sunu atadik\n",
        "print(\n",
        "    \"Customer net spent (during last day of 5 seasons):\",\n",
        "    customer_net_spend(700,599,600,discount=0.05,**additionals)\n",
        ")\n"
      ],
      "metadata": {
        "colab": {
          "base_uri": "https://localhost:8080/"
        },
        "id": "ex4p49pQ4tZO",
        "outputId": "b700d7f5-0d7a-4913-a125-0da700f3e9a7"
      },
      "execution_count": null,
      "outputs": [
        {
          "output_type": "stream",
          "name": "stdout",
          "text": [
            "Customer net spent (during last day of 5 seasons): 1888.95\n"
          ]
        }
      ]
    },
    {
      "cell_type": "code",
      "source": [
        "def order_summary(*prices, **additionals):\n",
        "  \"\"\"\n",
        "  This function takes the prices of phones ordered\n",
        "  and any other cost additions/subtractions ,\n",
        "  and returns the total amount , net spend,\n",
        "  and reward points earned for the others.\n",
        "  \"\"\"\n",
        "\n",
        "  total = 0;\n",
        "\n",
        "  for price in prices:\n",
        "    total += price\n",
        "\n",
        "  net_spend = total - additionals[\"discount\"] * additionals[\"cashback\"]\n",
        "\n",
        "\n",
        "  if total >= 10000:\n",
        "    reward_points = 300\n",
        "  elif total >= 5000:\n",
        "    reward_points = 200\n",
        "  elif total >= 2000:\n",
        "    reward_points = 100\n",
        "  else:\n",
        "    reward_points = 0\n",
        "\n",
        "  # in Python we can return multiple things\n",
        "  # Python returns this values as Tuple\n",
        "  return total, net_spend , reward_points\n"
      ],
      "metadata": {
        "id": "FKO2QOkF6gXe"
      },
      "execution_count": null,
      "outputs": []
    },
    {
      "cell_type": "code",
      "source": [
        "additionals = {\"discount\":0.05 , \"cashback\":5}\n",
        "\n",
        "# We can return multiple objects in Python and we can store them in multiple objects as well\n",
        "\n",
        "tt, ns, rp = order_summary(700,599,750,**additionals)\n",
        "print(\n",
        "\n",
        "      \"Customer order summary:\\n\",\n",
        "      \"\\nTotal amount:\",\n",
        "      tt,\n",
        "      \"\\nTotal discounted amount:\",\n",
        "      ns,\n",
        "      \"\\nReward points earned:\",\n",
        "      rp,\n",
        ")"
      ],
      "metadata": {
        "colab": {
          "base_uri": "https://localhost:8080/"
        },
        "id": "1n6X39mb9Zn2",
        "outputId": "ab3cbae5-80f7-4798-e757-57485b1946bb"
      },
      "execution_count": null,
      "outputs": [
        {
          "output_type": "stream",
          "name": "stdout",
          "text": [
            "Customer order summary:\n",
            " \n",
            "Total amount: 2049 \n",
            "Total discounted amount: 2048.75 \n",
            "Reward points earned: 100\n"
          ]
        }
      ]
    },
    {
      "cell_type": "markdown",
      "source": [
        "Notes:\n",
        "\n",
        "Note : args should be defined before kwargs, kwargs once parametre olarak verilirse python hata veriyor\n",
        "\n",
        "def fun(A, B=30), in here Argument A is positional arguments but Argument B has a default value specified, so it is a keyword argument.\n"
      ],
      "metadata": {
        "id": "cFZB_zuQCMyl"
      }
    }
  ]
}